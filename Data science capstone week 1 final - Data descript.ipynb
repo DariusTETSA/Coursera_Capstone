{
    "nbformat_minor": 1, 
    "cells": [
        {
            "source": "# Capstone Project - The battle of Neighborhoods (week 1)", 
            "cell_type": "markdown", 
            "metadata": {
                "collapsed": true
            }
        }, 
        {
            "source": "## Data Description", 
            "cell_type": "markdown", 
            "metadata": {}
        }, 
        {
            "source": "Foursquare has an important quantity of data on the neighborhoods for a good number of cities.  We intend to explore the city of Paris. Get all of its trending restaurants and evaluate their ratings and their foot traffics. We then indent to do some neighborhood segmentation on the data and try to analyze the results. We will recommend to Mrs. Suzanne the neighborhood with the highest foot traffic to the restaurant. We will adopt the following methodology:\n-\tData importation from foursquare\n-\tData cleansing\n-\tData transformation\n-\tData analysis\n-\tResult presentation.\n", 
            "cell_type": "markdown", 
            "metadata": {}
        }, 
        {
            "source": "### Foursquare Data presentation", 
            "cell_type": "markdown", 
            "metadata": {}
        }, 
        {
            "source": "Foursquare has a series of variables for each venue amongts which the following.\n- id : the Id of the venue\n- name: the name of the venue\n- location: the location of the venue which is a composite variable and contsins,\n    * address\n    * crossStreet\n    * lat\n    * lng\n    * cc\n    * city\n    * state\n    * country\n- categories: the category of the venue, which is also a composite variable.\n    * id\n    * name\n    * vpluralName\n    * shortName\n    * icon", 
            "cell_type": "markdown", 
            "metadata": {}
        }, 
        {
            "source": "For each venue, we will get the statistics. The fields are the following\n- totalCheckins:\tNumber of total checkins at the venue during the time period.\n- newCheckins:\tNumber of new visitors to the venue during the time period.\n- uniqueVisitors:\tNumber of unique visitors at the venue during the time period.\n- sharing:\tA subobject containing fields twitter and facebook indicating the number of check-ins at the venue pushed to twitter and facebook.\n- genderBreakdown:\tA subobject containing fields female and male indicating the number of checkins at the venue by men and women.\n- ageBreakdown:\tAn array of subobjects with fields age and checkins indicating the number of check-ins at the venue by people of different age ranges.\n- hourBreakdown:\tA 24-element array of subobjects with fields hour and checkins indicating the number of checkins at the venue during each hour of the day.\n- visitCountHistogram:\tA list of subobjects with fields checkins and users indicating how many users checked in a given number of times.\n- topVisitors:\tAn array of the top 10 users by check-in count during the time period. Array elements are objects with fields user, and checkins, the number of checkins by - that user. Does not include users who have opted out of sharing their check-ins with venue managers in their settings.\n- recentVisitors:\tAn array of the 10 most recent users. Array elements are objects with fields user and lastCheckin, the timestamp of the user\u2019s last check-in. This field is only present if startAt is specified and endAt is NOT specified (i.e., now). Does not include users who have opted out of sharing their check-ins with venue managers in their settings.   \n", 
            "cell_type": "markdown", 
            "metadata": {}
        }, 
        {
            "execution_count": null, 
            "cell_type": "code", 
            "metadata": {}, 
            "outputs": [], 
            "source": ""
        }
    ], 
    "metadata": {
        "kernelspec": {
            "display_name": "Python 3.5", 
            "name": "python3", 
            "language": "python"
        }, 
        "language_info": {
            "mimetype": "text/x-python", 
            "nbconvert_exporter": "python", 
            "version": "3.5.5", 
            "name": "python", 
            "file_extension": ".py", 
            "pygments_lexer": "ipython3", 
            "codemirror_mode": {
                "version": 3, 
                "name": "ipython"
            }
        }
    }, 
    "nbformat": 4
}