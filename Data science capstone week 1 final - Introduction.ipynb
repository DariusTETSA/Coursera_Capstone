{
    "nbformat_minor": 1, 
    "cells": [
        {
            "source": "# Capstone project: The battle for neighborhoods (week 1)", 
            "cell_type": "markdown", 
            "metadata": {
                "collapsed": true
            }
        }, 
        {
            "source": "## Introduction/Business Problem", 
            "cell_type": "markdown", 
            "metadata": {}
        }, 
        {
            "source": "### Context:", 
            "cell_type": "markdown", 
            "metadata": {}
        }, 
        {
            "source": "Mrs Suzanne is a business woman having a series of restaurants in the United States. She of recent decided to extend her business to France and decided to open a restaurant in Paris. Given she has never done such a business in Paris, she came to us asking us to tell her if Paris could be a good destination for her business. If yes, where in Paris should she open the restaurant?", 
            "cell_type": "markdown", 
            "metadata": {}
        }, 
        {
            "source": "### Problem: ", 
            "cell_type": "markdown", 
            "metadata": {}
        }, 
        {
            "source": "Using foursquare datasets to help choose the best location to start a business.", 
            "cell_type": "markdown", 
            "metadata": {}
        }, 
        {
            "source": "### Problem background:", 
            "cell_type": "markdown", 
            "metadata": {}
        }, 
        {
            "source": "The amount of data collected every day can be highly useful when it comes to taking decisions. Whether we want to segment the neighborhoods of Toronto or New York City or we want to choose a location suitable for a restaurant in the city of Paris. Foursquare has built an important dataset on the neighborhoods and their venues. Exploring some of the neighborhoods and analyzing some of their trending venues can permit us get some important information that can help us in the process of selecting a place to start a restaurant in a city.", 
            "cell_type": "markdown", 
            "metadata": {}
        }, 
        {
            "execution_count": null, 
            "cell_type": "code", 
            "metadata": {}, 
            "outputs": [], 
            "source": ""
        }
    ], 
    "metadata": {
        "kernelspec": {
            "display_name": "Python 3.5", 
            "name": "python3", 
            "language": "python"
        }, 
        "language_info": {
            "mimetype": "text/x-python", 
            "nbconvert_exporter": "python", 
            "version": "3.5.5", 
            "name": "python", 
            "file_extension": ".py", 
            "pygments_lexer": "ipython3", 
            "codemirror_mode": {
                "version": 3, 
                "name": "ipython"
            }
        }
    }, 
    "nbformat": 4
}